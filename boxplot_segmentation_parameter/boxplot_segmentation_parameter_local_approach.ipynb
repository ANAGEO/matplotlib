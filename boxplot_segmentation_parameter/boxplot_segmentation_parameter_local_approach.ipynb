{
 "cells": [
  {
   "cell_type": "markdown",
   "metadata": {},
   "source": [
    "This trick was found [here](http://blog.bharatbhole.com/creating-boxplots-with-matplotlib/) and also [here](http://www.python-simple.com/python-matplotlib/boxplot.php)."
   ]
  },
  {
   "cell_type": "code",
   "execution_count": 1,
   "metadata": {
    "collapsed": true
   },
   "outputs": [],
   "source": [
    "%matplotlib inline"
   ]
  },
  {
   "cell_type": "code",
   "execution_count": 2,
   "metadata": {
    "scrolled": true
   },
   "outputs": [
    {
     "name": "stderr",
     "output_type": "stream",
     "text": [
      "/usr/lib/python2.7/dist-packages/matplotlib/__init__.py:1352: UserWarning:  This call to matplotlib.use() has no effect\n",
      "because the backend has already been chosen;\n",
      "matplotlib.use() must be called *before* pylab, matplotlib.pyplot,\n",
      "or matplotlib.backends is imported for the first time.\n",
      "\n",
      "  warnings.warn(_use_error_msg)\n"
     ]
    }
   ],
   "source": [
    "## numpy is used for creating fake data\n",
    "import numpy as np \n",
    "import matplotlib as mpl \n",
    "import pandas as pd\n",
    "import os\n",
    "\n",
    "## agg backend is used to create plot as a .png file\n",
    "mpl.use('agg')\n",
    "\n",
    "import matplotlib.pyplot as plt "
   ]
  },
  {
   "cell_type": "markdown",
   "metadata": {},
   "source": [
    "## Boxplot comparing results from 3 approaches of segmentation parameter optimization"
   ]
  },
  {
   "cell_type": "markdown",
   "metadata": {
    "collapsed": true
   },
   "source": [
    "## Importing .csv in a dataframe"
   ]
  },
  {
   "cell_type": "code",
   "execution_count": 3,
   "metadata": {
    "collapsed": true
   },
   "outputs": [],
   "source": [
    "## Set âth to the data\n",
    "approach_A_csv='A_SEGMENT_uspo_results_f1.csv'\n",
    "approach_B_csv='B_SEGMENT_uspo_results_f1.csv'\n",
    "approach_C_csv='C_SEGMENT_uspo_results_f1.csv'"
   ]
  },
  {
   "cell_type": "code",
   "execution_count": 4,
   "metadata": {
    "collapsed": true
   },
   "outputs": [],
   "source": [
    "## Import best segmentation parameters in a new dataframe\n",
    "dfA=pd.read_csv(approach_A_csv, sep=',',header=0)\n",
    "dfB=pd.read_csv(approach_B_csv, sep=',',header=0)\n",
    "dfC=pd.read_csv(approach_C_csv, sep=',',header=0)"
   ]
  },
  {
   "cell_type": "code",
   "execution_count": 8,
   "metadata": {},
   "outputs": [
    {
     "data": {
      "text/html": [
       "<div>\n",
       "<table border=\"1\" class=\"dataframe\">\n",
       "  <thead>\n",
       "    <tr style=\"text-align: right;\">\n",
       "      <th></th>\n",
       "      <th>region</th>\n",
       "      <th>area</th>\n",
       "      <th>morpho_type</th>\n",
       "      <th>threshold</th>\n",
       "      <th>minsize</th>\n",
       "      <th>variance</th>\n",
       "      <th>spatial_autocorrelation</th>\n",
       "      <th>optimization_criteria</th>\n",
       "    </tr>\n",
       "  </thead>\n",
       "  <tbody>\n",
       "    <tr>\n",
       "      <th>0</th>\n",
       "      <td>1</td>\n",
       "      <td>10.100564</td>\n",
       "      <td>5555555</td>\n",
       "      <td>0.012</td>\n",
       "      <td>15</td>\n",
       "      <td>2089.721266</td>\n",
       "      <td>0.369368</td>\n",
       "      <td>0.618255</td>\n",
       "    </tr>\n",
       "  </tbody>\n",
       "</table>\n",
       "</div>"
      ],
      "text/plain": [
       "   region       area  morpho_type  threshold  minsize     variance  \\\n",
       "0       1  10.100564      5555555      0.012       15  2089.721266   \n",
       "\n",
       "   spatial_autocorrelation  optimization_criteria  \n",
       "0                 0.369368               0.618255  "
      ]
     },
     "execution_count": 8,
     "metadata": {},
     "output_type": "execute_result"
    }
   ],
   "source": [
    "dfA.head()"
   ]
  },
  {
   "cell_type": "code",
   "execution_count": 9,
   "metadata": {},
   "outputs": [
    {
     "data": {
      "text/html": [
       "<div>\n",
       "<table border=\"1\" class=\"dataframe\">\n",
       "  <thead>\n",
       "    <tr style=\"text-align: right;\">\n",
       "      <th></th>\n",
       "      <th>region</th>\n",
       "      <th>area</th>\n",
       "      <th>morpho_type</th>\n",
       "      <th>threshold</th>\n",
       "      <th>minsize</th>\n",
       "      <th>variance</th>\n",
       "      <th>spatial_autocorrelation</th>\n",
       "      <th>optimization_criteria</th>\n",
       "    </tr>\n",
       "  </thead>\n",
       "  <tbody>\n",
       "    <tr>\n",
       "      <th>0</th>\n",
       "      <td>58</td>\n",
       "      <td>1.012619</td>\n",
       "      <td>0</td>\n",
       "      <td>0.011</td>\n",
       "      <td>15</td>\n",
       "      <td>1346.734889</td>\n",
       "      <td>0.501063</td>\n",
       "      <td>0.576717</td>\n",
       "    </tr>\n",
       "    <tr>\n",
       "      <th>1</th>\n",
       "      <td>109</td>\n",
       "      <td>1.665881</td>\n",
       "      <td>11</td>\n",
       "      <td>0.014</td>\n",
       "      <td>15</td>\n",
       "      <td>3106.006077</td>\n",
       "      <td>0.172743</td>\n",
       "      <td>0.601229</td>\n",
       "    </tr>\n",
       "    <tr>\n",
       "      <th>2</th>\n",
       "      <td>137</td>\n",
       "      <td>2.244185</td>\n",
       "      <td>12</td>\n",
       "      <td>0.013</td>\n",
       "      <td>15</td>\n",
       "      <td>2830.028928</td>\n",
       "      <td>0.180007</td>\n",
       "      <td>0.597206</td>\n",
       "    </tr>\n",
       "    <tr>\n",
       "      <th>3</th>\n",
       "      <td>97</td>\n",
       "      <td>0.305531</td>\n",
       "      <td>13</td>\n",
       "      <td>0.012</td>\n",
       "      <td>15</td>\n",
       "      <td>2392.708498</td>\n",
       "      <td>0.270255</td>\n",
       "      <td>0.677734</td>\n",
       "    </tr>\n",
       "    <tr>\n",
       "      <th>4</th>\n",
       "      <td>124</td>\n",
       "      <td>0.336077</td>\n",
       "      <td>14</td>\n",
       "      <td>0.011</td>\n",
       "      <td>15</td>\n",
       "      <td>1439.378611</td>\n",
       "      <td>0.317956</td>\n",
       "      <td>0.597143</td>\n",
       "    </tr>\n",
       "  </tbody>\n",
       "</table>\n",
       "</div>"
      ],
      "text/plain": [
       "   region      area  morpho_type  threshold  minsize     variance  \\\n",
       "0      58  1.012619            0      0.011       15  1346.734889   \n",
       "1     109  1.665881           11      0.014       15  3106.006077   \n",
       "2     137  2.244185           12      0.013       15  2830.028928   \n",
       "3      97  0.305531           13      0.012       15  2392.708498   \n",
       "4     124  0.336077           14      0.011       15  1439.378611   \n",
       "\n",
       "   spatial_autocorrelation  optimization_criteria  \n",
       "0                 0.501063               0.576717  \n",
       "1                 0.172743               0.601229  \n",
       "2                 0.180007               0.597206  \n",
       "3                 0.270255               0.677734  \n",
       "4                 0.317956               0.597143  "
      ]
     },
     "execution_count": 9,
     "metadata": {},
     "output_type": "execute_result"
    }
   ],
   "source": [
    "dfB.head()"
   ]
  },
  {
   "cell_type": "code",
   "execution_count": 11,
   "metadata": {},
   "outputs": [
    {
     "data": {
      "text/html": [
       "<div>\n",
       "<table border=\"1\" class=\"dataframe\">\n",
       "  <thead>\n",
       "    <tr style=\"text-align: right;\">\n",
       "      <th></th>\n",
       "      <th>region</th>\n",
       "      <th>optimization_criteria</th>\n",
       "      <th>morpho_type</th>\n",
       "      <th>threshold</th>\n",
       "      <th>minsize</th>\n",
       "      <th>variance</th>\n",
       "      <th>spatial_autocorrelation</th>\n",
       "    </tr>\n",
       "  </thead>\n",
       "  <tbody>\n",
       "    <tr>\n",
       "      <th>0</th>\n",
       "      <td>123</td>\n",
       "      <td>0.593271</td>\n",
       "      <td>0</td>\n",
       "      <td>0.012</td>\n",
       "      <td>15</td>\n",
       "      <td>1153.136831</td>\n",
       "      <td>0.162017</td>\n",
       "    </tr>\n",
       "    <tr>\n",
       "      <th>1</th>\n",
       "      <td>20</td>\n",
       "      <td>0.585389</td>\n",
       "      <td>0</td>\n",
       "      <td>0.011</td>\n",
       "      <td>15</td>\n",
       "      <td>1579.866443</td>\n",
       "      <td>0.288554</td>\n",
       "    </tr>\n",
       "    <tr>\n",
       "      <th>2</th>\n",
       "      <td>15</td>\n",
       "      <td>0.581548</td>\n",
       "      <td>0</td>\n",
       "      <td>0.012</td>\n",
       "      <td>15</td>\n",
       "      <td>1507.438729</td>\n",
       "      <td>0.170753</td>\n",
       "    </tr>\n",
       "    <tr>\n",
       "      <th>3</th>\n",
       "      <td>279</td>\n",
       "      <td>0.648834</td>\n",
       "      <td>0</td>\n",
       "      <td>0.011</td>\n",
       "      <td>15</td>\n",
       "      <td>1529.490489</td>\n",
       "      <td>0.392974</td>\n",
       "    </tr>\n",
       "    <tr>\n",
       "      <th>4</th>\n",
       "      <td>236</td>\n",
       "      <td>0.655809</td>\n",
       "      <td>0</td>\n",
       "      <td>0.011</td>\n",
       "      <td>15</td>\n",
       "      <td>1658.064202</td>\n",
       "      <td>0.339775</td>\n",
       "    </tr>\n",
       "  </tbody>\n",
       "</table>\n",
       "</div>"
      ],
      "text/plain": [
       "   region  optimization_criteria  morpho_type  threshold  minsize  \\\n",
       "0     123               0.593271            0      0.012       15   \n",
       "1      20               0.585389            0      0.011       15   \n",
       "2      15               0.581548            0      0.012       15   \n",
       "3     279               0.648834            0      0.011       15   \n",
       "4     236               0.655809            0      0.011       15   \n",
       "\n",
       "      variance  spatial_autocorrelation  \n",
       "0  1153.136831                 0.162017  \n",
       "1  1579.866443                 0.288554  \n",
       "2  1507.438729                 0.170753  \n",
       "3  1529.490489                 0.392974  \n",
       "4  1658.064202                 0.339775  "
      ]
     },
     "execution_count": 11,
     "metadata": {},
     "output_type": "execute_result"
    }
   ],
   "source": [
    "dfC.head()"
   ]
  },
  {
   "cell_type": "markdown",
   "metadata": {},
   "source": [
    "## Get data for approach C (local approach)"
   ]
  },
  {
   "cell_type": "code",
   "execution_count": 12,
   "metadata": {
    "collapsed": true
   },
   "outputs": [],
   "source": [
    "# Get a list with unique values of 'morpho_type'\n",
    "listmorpho=list(dfC.morpho_type.unique())\n",
    "listmorphoname=[]\n",
    "for x in listmorpho:\n",
    "    listmorphoname.append(str(x))"
   ]
  },
  {
   "cell_type": "code",
   "execution_count": 13,
   "metadata": {
    "collapsed": true
   },
   "outputs": [],
   "source": [
    "approach_C={}\n",
    "for x in listmorpho:\n",
    "    tempdf=dfC.loc[dfC['morpho_type'] == x].copy()\n",
    "    tempdf.sort_values(['threshold'], inplace=True)\n",
    "    approach_C['key_%s'%x]=np.around(tempdf.loc[:,['threshold']]['threshold'].tolist(),decimals=3)"
   ]
  },
  {
   "cell_type": "code",
   "execution_count": 14,
   "metadata": {
    "scrolled": true
   },
   "outputs": [
    {
     "name": "stdout",
     "output_type": "stream",
     "text": [
      "[ 0.008  0.009  0.01   0.01   0.01   0.011  0.011  0.011  0.011  0.011\n",
      "  0.011  0.011  0.011  0.012  0.012  0.012  0.012  0.012  0.013  0.013]\n",
      "[ 0.01   0.011  0.012  0.013  0.013  0.013  0.013  0.014  0.014  0.014\n",
      "  0.014  0.014  0.014  0.014  0.014  0.015  0.015  0.015  0.015  0.018]\n",
      "[ 0.01   0.011  0.013  0.013  0.013  0.014  0.014  0.014  0.014  0.015\n",
      "  0.015  0.016]\n",
      "[ 0.012  0.012  0.012  0.012  0.012  0.013  0.013  0.013  0.013  0.013\n",
      "  0.013  0.013  0.014  0.015  0.015  0.019  0.019  0.02 ]\n",
      "[ 0.009  0.011  0.011  0.012  0.012  0.013  0.013  0.013  0.014  0.014\n",
      "  0.015  0.015  0.015  0.02   0.022]\n",
      "[ 0.013  0.014  0.014  0.015  0.015  0.015  0.015  0.015  0.016  0.016\n",
      "  0.016  0.017  0.021]\n",
      "[ 0.013  0.013  0.013  0.013  0.014  0.014  0.014  0.015  0.015  0.015\n",
      "  0.015  0.016  0.016  0.016]\n",
      "[ 0.012  0.012  0.012  0.014  0.014  0.014  0.015  0.015  0.015  0.016\n",
      "  0.016  0.016  0.018  0.018  0.021  0.022  0.027]\n",
      "[ 0.01   0.011  0.011  0.012  0.012  0.012  0.012  0.013  0.013  0.013\n",
      "  0.014  0.014  0.014  0.014  0.014  0.015  0.016  0.016  0.018  0.02\n",
      "  0.021  0.022]\n",
      "[ 0.011  0.017  0.021]\n",
      "[ 0.01   0.011  0.011  0.011  0.011  0.011  0.011  0.011  0.011  0.012\n",
      "  0.012  0.012  0.012  0.012  0.012  0.012  0.012  0.012  0.012  0.013\n",
      "  0.013  0.013  0.013  0.013  0.013  0.013  0.013  0.013  0.013  0.013\n",
      "  0.013  0.013  0.013  0.014  0.014  0.014  0.014  0.014  0.014  0.014\n",
      "  0.014  0.014  0.014  0.014  0.014  0.014  0.015  0.015  0.015  0.015\n",
      "  0.015  0.015  0.016  0.016  0.016  0.016  0.016  0.016  0.016  0.016\n",
      "  0.016  0.016  0.017  0.017  0.017  0.017  0.017  0.017  0.019  0.019\n",
      "  0.02   0.02   0.02   0.021  0.021  0.022  0.023  0.025  0.027  0.027]\n",
      "[ 0.006  0.006  0.009  0.009  0.01   0.01   0.01   0.01   0.011  0.012\n",
      "  0.012  0.012  0.012  0.012  0.012  0.013  0.013  0.013  0.013  0.013\n",
      "  0.013  0.013  0.013  0.013  0.014  0.014  0.014  0.014  0.014  0.015\n",
      "  0.015  0.015  0.015  0.015  0.015  0.016  0.016  0.016  0.016  0.018\n",
      "  0.018  0.019  0.019  0.02   0.02   0.021  0.021  0.023  0.025]\n"
     ]
    }
   ],
   "source": [
    "for x in listmorpho:\n",
    "    print approach_C['key_%s'%x]"
   ]
  },
  {
   "cell_type": "code",
   "execution_count": 15,
   "metadata": {
    "collapsed": true
   },
   "outputs": [],
   "source": [
    "data_to_plot_C=[]\n",
    "for x in listmorpho:\n",
    "    data_to_plot_C.append(approach_C['key_%s'%x])"
   ]
  },
  {
   "cell_type": "markdown",
   "metadata": {
    "collapsed": true
   },
   "source": [
    "## Compute widths of boxes according to the number of samples in C"
   ]
  },
  {
   "cell_type": "code",
   "execution_count": 16,
   "metadata": {},
   "outputs": [
    {
     "name": "stdout",
     "output_type": "stream",
     "text": [
      "[0.352, 0.352, 0.23, 0.324, 0.279, 0.247, 0.264, 0.31, 0.378, 0.021, 0.892, 0.657]\n"
     ]
    }
   ],
   "source": [
    "boxes_widths=[]\n",
    "# Computing widths of boxes\n",
    "for i in range(len(data_to_plot_C)):\n",
    "    boxes_widths.append(np.sqrt(len(data_to_plot_C[i])))\n",
    "\n",
    "# Standardize\n",
    "maxval=float(max(boxes_widths))*1.1\n",
    "minval=float(min(boxes_widths))*0.9\n",
    "\n",
    "boxes_widths_standard=[]\n",
    "for i in range(len(boxes_widths)):\n",
    "    std_value=(boxes_widths[i]-minval)/(maxval-minval)\n",
    "    boxes_widths_standard.append(round(std_value,3))\n",
    "    \n",
    "print boxes_widths_standard"
   ]
  },
  {
   "cell_type": "markdown",
   "metadata": {
    "collapsed": true
   },
   "source": [
    "## Create the graph"
   ]
  },
  {
   "cell_type": "code",
   "execution_count": 18,
   "metadata": {},
   "outputs": [
    {
     "data": {
      "image/png": "[encoded data removed]",
      "text/plain": [
       "<matplotlib.figure.Figure at 0x7fee2c277bd0>"
      ]
     },
     "metadata": {},
     "output_type": "display_data"
    }
   ],
   "source": [
    "# Create a figure instance\n",
    "fig = plt.figure(1, figsize=(13, 10))\n",
    "plt.ylim(0.004, 0.030)\n",
    "\n",
    "# Create an axes instance\n",
    "ax = fig.add_subplot(111)\n",
    "\n",
    "start, end = ax.get_ylim()\n",
    "ax.yaxis.set_ticks(np.arange(start, end, 0.001))\n",
    "\n",
    "# Create the boxplot\n",
    "boxplotElements = ax.boxplot(data_to_plot_C, patch_artist=True, whis = 1.5, widths=boxes_widths_standard)\n",
    "\n",
    "## change outline color, fill color and linewidth of the boxes\n",
    "for element in boxplotElements['boxes']:\n",
    "    element.set_edgecolor('black')\n",
    "    element.set_facecolor('lightgrey')\n",
    "    element.set_linewidth(2)\n",
    "    #element.set_linestyle('dashed')\n",
    "    element.set_fill(True)\n",
    "    #element.set_hatch('/')\n",
    "\n",
    "## change color and linewidth of the whiskers\n",
    "for element in boxplotElements['whiskers']:\n",
    "    element.set_color('black')\n",
    "    element.set_linewidth(2)\n",
    "\n",
    "## change color and linewidth of the caps\n",
    "for element in boxplotElements['caps']:\n",
    "    element.set_color('black')\n",
    "    element.set_linewidth(2)\n",
    "    \n",
    "## change color and linewidth of the medians\n",
    "for element in boxplotElements['medians']:\n",
    "    element.set_color('red')\n",
    "    element.set_linewidth(1)\n",
    "\n",
    "## change the style of fliers and their fill\n",
    "for element in boxplotElements['fliers']:\n",
    "    element.set_color('dark')\n",
    "    element.set_marker('.')\n",
    "    element.set_alpha(0.5)\n",
    "    \n",
    "## Custom x-axis labels\n",
    "ax.set_xticklabels(listmorphoname)\n",
    "ax.set_xlabel('Morphological type')\n",
    "\n",
    "## Custom y-axis labels\n",
    "ax.set_ylabel('Threshold parameter')\n",
    "\n",
    "## Remove top axes and right axes ticks\n",
    "ax.get_xaxis().tick_bottom()\n",
    "ax.get_yaxis().tick_left()\n",
    "\n",
    "# Save the figure\n",
    "boxplot_output=\"boxplot_A.svg\"\n",
    "fig.savefig(boxplot_output, bbox_inches='tight', format='svg', dpi=1200)"
   ]
  },
  {
   "cell_type": "markdown",
   "metadata": {},
   "source": [
    "## Get data for approach B (type approach)"
   ]
  },
  {
   "cell_type": "code",
   "execution_count": 19,
   "metadata": {
    "collapsed": true
   },
   "outputs": [],
   "source": [
    "# Get a list with unique values of 'morpho_type'\n",
    "listmorpho=list(dfB.morpho_type.unique())\n",
    "listmorphoname=[]\n",
    "for x in listmorpho:\n",
    "    listmorphoname.append(str(x))"
   ]
  },
  {
   "cell_type": "code",
   "execution_count": 20,
   "metadata": {
    "collapsed": true
   },
   "outputs": [],
   "source": [
    "approach_B=[]\n",
    "for x in listmorpho:\n",
    "    tempdf=dfB.loc[dfB['morpho_type'] == x].copy()\n",
    "    approach_B.append(round(tempdf.loc[:,['threshold']]['threshold'],3))"
   ]
  },
  {
   "cell_type": "code",
   "execution_count": 21,
   "metadata": {
    "collapsed": true
   },
   "outputs": [],
   "source": [
    "data_to_plot_B=[]\n",
    "for x in range(len(listmorpho)):\n",
    "    data_to_plot_B.append(approach_B[x])"
   ]
  },
  {
   "cell_type": "code",
   "execution_count": 22,
   "metadata": {},
   "outputs": [
    {
     "data": {
      "text/plain": [
       "list"
      ]
     },
     "execution_count": 22,
     "metadata": {},
     "output_type": "execute_result"
    }
   ],
   "source": [
    "type(listmorpho)"
   ]
  },
  {
   "cell_type": "code",
   "execution_count": 23,
   "metadata": {},
   "outputs": [
    {
     "data": {
      "text/plain": [
       "list"
      ]
     },
     "execution_count": 23,
     "metadata": {},
     "output_type": "execute_result"
    }
   ],
   "source": [
    "type(data_to_plot_B)"
   ]
  },
  {
   "cell_type": "code",
   "execution_count": 24,
   "metadata": {},
   "outputs": [
    {
     "data": {
      "text/plain": [
       "[0, 11, 12, 13, 14, 21, 22, 23, 24, 31, 32, 34]"
      ]
     },
     "execution_count": 24,
     "metadata": {},
     "output_type": "execute_result"
    }
   ],
   "source": [
    "listmorpho"
   ]
  },
  {
   "cell_type": "code",
   "execution_count": 25,
   "metadata": {},
   "outputs": [
    {
     "data": {
      "text/plain": [
       "[0.011,\n",
       " 0.014,\n",
       " 0.013,\n",
       " 0.012,\n",
       " 0.011,\n",
       " 0.015,\n",
       " 0.014,\n",
       " 0.014,\n",
       " 0.011,\n",
       " 0.012,\n",
       " 0.013,\n",
       " 0.011]"
      ]
     },
     "execution_count": 25,
     "metadata": {},
     "output_type": "execute_result"
    }
   ],
   "source": [
    "data_to_plot_B"
   ]
  },
  {
   "cell_type": "code",
   "execution_count": 26,
   "metadata": {},
   "outputs": [
    {
     "data": {
      "text/plain": [
       "12"
      ]
     },
     "execution_count": 26,
     "metadata": {},
     "output_type": "execute_result"
    }
   ],
   "source": [
    "len(listmorphoname)"
   ]
  },
  {
   "cell_type": "code",
   "execution_count": 27,
   "metadata": {},
   "outputs": [
    {
     "data": {
      "text/plain": [
       "[1, 2, 3, 4, 5, 6, 7, 8, 9, 10, 11, 12]"
      ]
     },
     "execution_count": 27,
     "metadata": {},
     "output_type": "execute_result"
    }
   ],
   "source": [
    "range(1,len(listmorphoname)+1)"
   ]
  },
  {
   "cell_type": "markdown",
   "metadata": {
    "collapsed": true
   },
   "source": [
    "## Create the graph"
   ]
  },
  {
   "cell_type": "code",
   "execution_count": 28,
   "metadata": {},
   "outputs": [
    {
     "data": {
      "image/png": "[encoded data removed]",
      "text/plain": [
       "<matplotlib.figure.Figure at 0x7fee2bfc3e90>"
      ]
     },
     "metadata": {},
     "output_type": "display_data"
    }
   ],
   "source": [
    "# Create a figure instance\n",
    "fig = plt.figure(1, figsize=(13, 10))\n",
    "plt.ylim(0.004, 0.030)\n",
    "\n",
    "# Create an axes instance\n",
    "ax = fig.add_subplot(111)\n",
    "\n",
    "start, end = ax.get_ylim()\n",
    "ax.yaxis.set_ticks(np.arange(start, end, 0.001))\n",
    "\n",
    "# Create the boxplot for approach C\n",
    "boxplotElements = ax.boxplot(data_to_plot_C, patch_artist=True, \n",
    "                             whis = 1.5, widths=boxes_widths_standard)\n",
    "\n",
    "## change outline color, fill color and linewidth of the boxes\n",
    "for element in boxplotElements['boxes']:\n",
    "    element.set_edgecolor('black')\n",
    "    element.set_facecolor('lightgrey')\n",
    "    element.set_linewidth(1)\n",
    "    #element.set_linestyle('dashed')\n",
    "    element.set_fill(True)\n",
    "    element.set_alpha(0.6)\n",
    "    #element.set_hatch('/')\n",
    "\n",
    "## change color and linewidth of the whiskers\n",
    "for element in boxplotElements['whiskers']:\n",
    "    element.set_color('black')\n",
    "    element.set_linewidth(2)\n",
    "    element.set_alpha(0.4)\n",
    "\n",
    "## change color and linewidth of the caps\n",
    "for element in boxplotElements['caps']:\n",
    "    element.set_color('black')\n",
    "    element.set_linewidth(2)\n",
    "    element.set_alpha(0.4)\n",
    "    \n",
    "## change color and linewidth of the medians\n",
    "for element in boxplotElements['medians']:\n",
    "    element.set_color('red')\n",
    "    element.set_linewidth(2)\n",
    "    element.set_alpha(0.9)\n",
    "\n",
    "## change the style of fliers and their fill\n",
    "for element in boxplotElements['fliers']:\n",
    "    element.set_color('dark')\n",
    "    element.set_marker('.')\n",
    "    element.set_alpha(0.6)\n",
    "    \n",
    "    \n",
    "# Create the scatter plot for approach B\n",
    "ScatterElements = ax.scatter(range(1,len(listmorphoname)+1), data_to_plot_B,\n",
    "                            s=70, c='b', alpha=1, zorder=10)\n",
    "    \n",
    "## Custom x-axis labels\n",
    "ax.set_xticklabels(listmorphoname)\n",
    "ax.set_xlabel('Morphological type')\n",
    "\n",
    "## Custom y-axis labels\n",
    "ax.set_ylabel('Threshold parameter')\n",
    "\n",
    "## Remove top axes and right axes ticks\n",
    "ax.get_xaxis().tick_bottom()\n",
    "ax.get_yaxis().tick_left()\n",
    "\n",
    "# Save the figure\n",
    "boxplot_output=\"boxplot_B.svg\"\n",
    "fig.savefig(boxplot_output, bbox_inches='tight', format='svg', dpi=1200)"
   ]
  },
  {
   "cell_type": "markdown",
   "metadata": {},
   "source": [
    "## Get data for approach A (type approach)"
   ]
  },
  {
   "cell_type": "code",
   "execution_count": 29,
   "metadata": {
    "collapsed": true
   },
   "outputs": [],
   "source": [
    "data_to_plot_A=[]\n",
    "for x in list(dfA.morpho_type.unique()):\n",
    "    tempdf=dfA.loc[dfA['morpho_type'] == x].copy()\n",
    "    data_to_plot_A.append(round(tempdf.loc[:,['threshold']]['threshold'],3))"
   ]
  },
  {
   "cell_type": "code",
   "execution_count": 30,
   "metadata": {},
   "outputs": [
    {
     "data": {
      "text/plain": [
       "[0.012]"
      ]
     },
     "execution_count": 30,
     "metadata": {},
     "output_type": "execute_result"
    }
   ],
   "source": [
    "data_to_plot_A"
   ]
  },
  {
   "cell_type": "markdown",
   "metadata": {
    "collapsed": true
   },
   "source": [
    "## Create the graph"
   ]
  },
  {
   "cell_type": "code",
   "execution_count": 31,
   "metadata": {},
   "outputs": [
    {
     "data": {
      "image/png": "[encoded data removed]",
      "text/plain": [
       "<matplotlib.figure.Figure at 0x7fee2bfc3ad0>"
      ]
     },
     "metadata": {},
     "output_type": "display_data"
    }
   ],
   "source": [
    "# Create a figure instance\n",
    "fig = plt.figure(1, figsize=(13, 10))\n",
    "plt.ylim(0.004, 0.030)\n",
    "\n",
    "# Create an axes instance\n",
    "ax = fig.add_subplot(111)\n",
    "\n",
    "start, end = ax.get_ylim()\n",
    "ax.yaxis.set_ticks(np.arange(start, end, 0.001))\n",
    "\n",
    "# Create the boxplot for approach C\n",
    "boxplotElements = ax.boxplot(data_to_plot_C, patch_artist=True, \n",
    "                             whis = 1.5, widths=boxes_widths_standard)\n",
    "\n",
    "## change outline color, fill color and linewidth of the boxes\n",
    "for element in boxplotElements['boxes']:\n",
    "    element.set_edgecolor('black')\n",
    "    element.set_facecolor('lightgrey')\n",
    "    element.set_linewidth(1)\n",
    "    #element.set_linestyle('dashed')\n",
    "    element.set_fill(True)\n",
    "    element.set_alpha(0.6)\n",
    "    #element.set_hatch('/')\n",
    "\n",
    "## change color and linewidth of the whiskers\n",
    "for element in boxplotElements['whiskers']:\n",
    "    element.set_color('black')\n",
    "    element.set_linewidth(2)\n",
    "    element.set_alpha(0.4)\n",
    "\n",
    "## change color and linewidth of the caps\n",
    "for element in boxplotElements['caps']:\n",
    "    element.set_color('black')\n",
    "    element.set_linewidth(2)\n",
    "    element.set_alpha(0.4)\n",
    "    \n",
    "## change color and linewidth of the medians\n",
    "for element in boxplotElements['medians']:\n",
    "    element.set_color('red')\n",
    "    element.set_linewidth(2)\n",
    "    element.set_alpha(0.9)\n",
    "\n",
    "## change the style of fliers and their fill\n",
    "for element in boxplotElements['fliers']:\n",
    "    element.set_color('dark')\n",
    "    element.set_marker('.')\n",
    "    element.set_alpha(0.8)\n",
    "    \n",
    "# Create the line for approach A\n",
    "LineElements = ax.axhline(y=data_to_plot_A, color='darkorange', \n",
    "                          linewidth=2, linestyle='dashed', alpha=1, zorder=10)\n",
    "\n",
    "# Create the scatter plot for approach B\n",
    "ScatterElements = ax.scatter(range(1,len(listmorphoname)+1), data_to_plot_B,\n",
    "                            s=70, c='bisque', alpha=1, linewidths=0.5, zorder=15)\n",
    "    \n",
    "## Custom x-axis labels\n",
    "ax.set_xticklabels(listmorphoname)\n",
    "ax.set_xlabel('Morphological type')\n",
    "\n",
    "## Custom y-axis labels\n",
    "ax.set_ylabel('Threshold parameter')\n",
    "\n",
    "## Remove top axes and right axes ticks\n",
    "ax.get_xaxis().tick_bottom()\n",
    "ax.get_yaxis().tick_left()\n",
    "\n",
    "# Save the figure\n",
    "boxplot_output=\"boxplot_C.svg\"\n",
    "fig.savefig(boxplot_output, bbox_inches='tight', format='svg', dpi=1200)"
   ]
  },
  {
   "cell_type": "code",
   "execution_count": null,
   "metadata": {
    "collapsed": true
   },
   "outputs": [],
   "source": []
  }
 ],
 "metadata": {
  "kernelspec": {
   "display_name": "Python 2",
   "language": "python",
   "name": "python2"
  },
  "language_info": {
   "codemirror_mode": {
    "name": "ipython",
    "version": 2
   },
   "file_extension": ".py",
   "mimetype": "text/x-python",
   "name": "python",
   "nbconvert_exporter": "python",
   "pygments_lexer": "ipython2",
   "version": "2.7.12"
  }
 },
 "nbformat": 4,
 "nbformat_minor": 2
}
